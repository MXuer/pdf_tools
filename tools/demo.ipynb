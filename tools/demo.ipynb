{
 "cells": [
  {
   "cell_type": "code",
   "execution_count": 1,
   "metadata": {},
   "outputs": [],
   "source": [
    "# from py_pdf_parser.loaders import load_file\n",
    "# # from py_pdf_parser.visualise import visualise\n",
    "\n",
    "import pdfplumber\n"
   ]
  },
  {
   "cell_type": "code",
   "execution_count": null,
   "metadata": {},
   "outputs": [],
   "source": [
    "import fitz\n",
    "import pdfplumber\n",
    "from transformers import pipeline\n",
    "\n",
    "# 初始化翻译模型\n",
    "translator = pipeline(\"translation\", model=\"Helsinki-NLP/opus-mt-en-zh\")\n",
    "\n",
    "# 1. 提取 PDF 内容\n",
    "def extract_content(pdf_path):\n",
    "    content = []\n",
    "    doc = fitz.open(pdf_path)\n",
    "    for page_number, page in enumerate(doc, start=1):\n",
    "        for block in page.get_text(\"dict\")[\"blocks\"]:\n",
    "            for line in block[\"lines\"]:\n",
    "                for span in line[\"spans\"]:\n",
    "                    text = span[\"text\"]\n",
    "                    bbox = span[\"bbox\"]\n",
    "                    font_size = span[\"size\"]\n",
    "                    content.append({\"text\": text, \"bbox\": bbox, \"font_size\": font_size, \"page\": page_number})\n",
    "    return content\n",
    "\n",
    "# 2. 翻译内容\n",
    "def translate_content(content):\n",
    "    for item in content:\n",
    "        item[\"translated_text\"] = translator(item[\"text\"], max_length=400)[0][\"translation_text\"]\n",
    "    return content\n",
    "\n",
    "# 3. 生成新 PDF\n",
    "def generate_pdf(content, original_pdf, output_pdf):\n",
    "    doc = fitz.open(original_pdf)\n",
    "    new_pdf = fitz.open()\n",
    "    for page_number, page in enumerate(doc, start=1):\n",
    "        new_page = new_pdf.new_page(width=page.rect.width, height=page.rect.height)\n",
    "        new_page.show_pdf_page(page.rect, doc, page.number)\n",
    "        for item in content:\n",
    "            if item[\"page\"] == page_number:\n",
    "                new_page.insert_text(item[\"bbox\"][:2], item[\"translated_text\"], fontsize=item[\"font_size\"])\n",
    "    new_pdf.save(output_pdf)\n",
    "\n",
    "# 主函数调用\n",
    "pdf_path = \"example.pdf\"\n",
    "content = extract_content(pdf_path)\n",
    "content = translate_content(content)\n",
    "generate_pdf(content, pdf_path, \"translated_output.pdf\")\n"
   ]
  }
 ],
 "metadata": {
  "kernelspec": {
   "display_name": "base",
   "language": "python",
   "name": "python3"
  },
  "language_info": {
   "codemirror_mode": {
    "name": "ipython",
    "version": 3
   },
   "file_extension": ".py",
   "mimetype": "text/x-python",
   "name": "python",
   "nbconvert_exporter": "python",
   "pygments_lexer": "ipython3",
   "version": "3.10.9"
  }
 },
 "nbformat": 4,
 "nbformat_minor": 2
}
